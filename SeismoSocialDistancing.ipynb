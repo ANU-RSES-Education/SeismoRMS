{
 "cells": [
  {
   "cell_type": "markdown",
   "metadata": {},
   "source": [
    "# Ground Motion Displacement RMS vs Time\n",
    "\n",
    "*an example simple tutorial for getting seismic data, computing the power spectral densities, extracting the RMS and plotting*\n",
    "\n",
    "Required:\n",
    "\n",
    "- python\n",
    "- obspy (and its dependencies)\n",
    "- pandas\n",
    "- jupyter\n",
    "- notebook\n",
    "- tqdm\n",
    "\n",
    "this should be easy to set up in a conda env: ``conda create -c conda-forge -n covid python=3.7 obspy pandas jupyter notebook tqdm``\n",
    "\n",
    "Author: Thomas Lecocq @seismotom, Fred Massin @fmassin, Claudio Satriano @claudiodsf"
   ]
  },
  {
   "cell_type": "markdown",
   "metadata": {},
   "source": [
    "## Step 1: imports"
   ]
  },
  {
   "cell_type": "code",
   "execution_count": null,
   "metadata": {
    "ExecuteTime": {
     "end_time": "2020-04-30T10:15:11.243647Z",
     "start_time": "2020-04-30T10:15:03.015965Z"
    }
   },
   "outputs": [],
   "source": [
    "import datetime\n",
    "import os\n",
    "from glob import glob\n",
    "\n",
    "import matplotlib\n",
    "matplotlib.rcParams['pdf.fonttype'] = 42  # to edit text in Illustrator\n",
    "import matplotlib.pyplot as plt\n",
    "import matplotlib.ticker as ticker\n",
    "import matplotlib.patheffects as pe\n",
    "import numpy as np\n",
    "import pandas as pd\n",
    "import tqdm\n",
    "import warnings\n",
    "\n",
    "from obspy import UTCDateTime, read\n",
    "from obspy.clients.fdsn import Client\n",
    "from obspy.signal import PPSD\n",
    "\n",
    "import seismosocialdistancing"
   ]
  },
  {
   "cell_type": "markdown",
   "metadata": {},
   "source": [
    "## Step 2: Define Start/End dates and Seismic Channel\n",
    "\n",
    "You'll have to make sure the seed_id you request is indeed available from the ``data_provider``"
   ]
  },
  {
   "cell_type": "code",
   "execution_count": null,
   "metadata": {
    "ExecuteTime": {
     "end_time": "2020-04-30T10:15:11.263582Z",
     "start_time": "2020-04-30T10:15:11.250630Z"
    }
   },
   "outputs": [],
   "source": [
    "# Make sure you take at least a full week (>=7 days) before the first \"ban\"\n",
    "start = UTCDateTime(\"2020-03-01\")\n",
    "# Leaving UTCDateTime() empty means \"now\":\n",
    "end = UTCDateTime(\"2020-03-23\")\n",
    "\n",
    "network = \"BE\"\n",
    "station = \"UCC\"\n",
    "location = \"\"\n",
    "channel = \"HHZ\"\n",
    "dataset = \"example\"\n",
    "time_zone = \"Europe/Brussels\"\n",
    "sitedesc = \"in Uccle (Brussels, BE)\"\n",
    "\n",
    "data_provider = \"ODC\"\n",
    "logo = None # 'https://upload.wikimedia.org/wikipedia/commons/thumb/4/44/Logo_SED_2014.png/220px-Logo_SED_2014.png'\n",
    "bans = {\"2020-03-15 00:00\":'Restaurants/Bars/Schools closed', \n",
    "        \"2020-03-18 12:00\":'Non-essential shops closed'}\n"
   ]
  },
  {
   "cell_type": "markdown",
   "metadata": {},
   "source": [
    "## Step 3: Download the seismic waveform data\n",
    "\n",
    "This step is coded so that only the last day is redownloaded if the daily files are present on the disk.\n",
    "\n",
    "The request gets the target day +- 30 minutes to avoid having gaps at the end of each day (need 1 window covering midnight)."
   ]
  },
  {
   "cell_type": "code",
   "execution_count": null,
   "metadata": {
    "ExecuteTime": {
     "end_time": "2020-04-30T10:15:12.573241Z",
     "start_time": "2020-04-30T10:15:11.273560Z"
    },
    "scrolled": false
   },
   "outputs": [],
   "source": [
    "datelist = pd.date_range(start.datetime, min(end, UTCDateTime()).datetime, freq=\"D\")\n",
    "c = Client(data_provider)\n",
    "\n",
    "nslc = \"{}.{}.{}.{}\".format(network, station, location, channel)\n",
    "# make sure that wildcard characters are not in nslc\n",
    "nslc = nslc.replace(\"*\", \"\").replace(\"?\", \"\")\n",
    "pbar = tqdm.tqdm(datelist)\n",
    "for day in pbar:\n",
    "    datestr = day.strftime(\"%Y-%m-%d\")\n",
    "    fn = \"{}_{}_{}.mseed\".format(dataset, datestr, nslc)\n",
    "    if day != UTCDateTime().datetime and os.path.isfile(fn):\n",
    "        continue\n",
    "    else:\n",
    "        pbar.set_description(\"Fetching %s\" % fn)\n",
    "        st = c.get_waveforms(network, station, location, channel,\n",
    "                             UTCDateTime(day)-1801, UTCDateTime(day)+86400+1801, attach_response=True)\n",
    "        st.write(fn)\n",
    "resp = c.get_stations(UTCDateTime(day), network=network, station=station, location=location,\n",
    "                      channel=channel, level=\"response\")\n",
    "print(resp)\n"
   ]
  },
  {
   "cell_type": "markdown",
   "metadata": {},
   "source": [
    "## Step 4: Compute PPSDs using custom parameters\n",
    "\n",
    "These parameters are set to allow the PSDs to be \"nervous\", not as smooth as the default PQLX ones."
   ]
  },
  {
   "cell_type": "code",
   "execution_count": null,
   "metadata": {
    "ExecuteTime": {
     "end_time": "2020-04-30T10:15:17.692669Z",
     "start_time": "2020-04-30T10:15:12.580221Z"
    }
   },
   "outputs": [],
   "source": [
    "force_reprocess = False\n",
    "pbar = tqdm.tqdm(datelist)\n",
    "for day in pbar:\n",
    "    datestr = day.strftime(\"%Y-%m-%d\")\n",
    "    fn_in = \"{}_{}_{}.mseed\".format(dataset, datestr, nslc)\n",
    "    pbar.set_description(\"Processing %s\" % fn_in)\n",
    "    stall = read(fn_in, headonly=True)\n",
    "    for mseedid in list(set([tr.id for tr in stall])):\n",
    "        fn_out = \"{}_{}_{}.npz\".format(dataset, datestr, mseedid)\n",
    "        if os.path.isfile(fn_out) and not force_reprocess:\n",
    "            continue\n",
    "        st = read(fn_in, sourcename=mseedid)\n",
    "        st.attach_response(resp)\n",
    "        ppsd = PPSD(st[0].stats, metadata=resp,\n",
    "                    ppsd_length=1800, overlap=0.5,\n",
    "                    period_smoothing_width_octaves=0.025,\n",
    "                    period_step_octaves=0.0125,\n",
    "                    period_limits=(0.008, 50),\n",
    "                    db_bins=(-200, 20, 0.25))\n",
    "        with warnings.catch_warnings():\n",
    "            warnings.simplefilter(\"ignore\")\n",
    "            ppsd.add(st)\n",
    "        ppsd.save_npz(fn_out[:-4])\n",
    "        del st, ppsd\n",
    "    del stall\n"
   ]
  },
  {
   "cell_type": "markdown",
   "metadata": {},
   "source": [
    "## Step 5: Reload daily PSDs from the disk and create a single PPSD object:"
   ]
  },
  {
   "cell_type": "code",
   "execution_count": null,
   "metadata": {
    "ExecuteTime": {
     "end_time": "2020-04-30T10:15:19.847047Z",
     "start_time": "2020-04-30T10:15:17.699630Z"
    },
    "scrolled": true
   },
   "outputs": [],
   "source": [
    "ppsds = {}\n",
    "pbar = tqdm.tqdm(datelist)\n",
    "for day in pbar:\n",
    "    datestr = day.strftime(\"%Y-%m-%d\")\n",
    "    fn_pattern = \"{}_{}_*.npz\".format(dataset, datestr)\n",
    "    pbar.set_description(\"Reading %s\" % fn_pattern)\n",
    "    for fn in glob(fn_pattern):\n",
    "        mseedid = fn.replace(\".npz\", \"\").split(\"_\")[-1]\n",
    "        if mseedid not in ppsds:\n",
    "            ppsds[mseedid] = PPSD.load_npz(fn)#, allow_pickle=True)\n",
    "        else:\n",
    "            with warnings.catch_warnings():\n",
    "                warnings.simplefilter(\"ignore\")\n",
    "                ppsds[mseedid].add_npz(fn)#, allow_pickle=True)"
   ]
  },
  {
   "cell_type": "markdown",
   "metadata": {},
   "source": [
    "## Step 6: Standard plots:"
   ]
  },
  {
   "cell_type": "code",
   "execution_count": null,
   "metadata": {
    "ExecuteTime": {
     "end_time": "2020-04-30T10:16:11.370125Z",
     "start_time": "2020-04-30T10:15:19.853030Z"
    }
   },
   "outputs": [],
   "source": [
    "[ppsd.plot(max_percentage=10) for mseedid, ppsd in ppsds.items()]\n",
    "[ppsd.plot_temporal(0.10) for mseedid, ppsd in ppsds.items()]\n",
    "[ppsd.plot_spectrogram(clim=(-160,-100)) for mseedid, ppsd in ppsds.items()]"
   ]
  },
  {
   "cell_type": "markdown",
   "metadata": {},
   "source": [
    "## Step 7: Process PSDs to extract the RMS(displacement)\n",
    "\n",
    "This can be done for multiple filters at once (``freqs`` below):"
   ]
  },
  {
   "cell_type": "code",
   "execution_count": null,
   "metadata": {
    "ExecuteTime": {
     "end_time": "2020-04-30T10:16:11.500206Z",
     "start_time": "2020-04-30T10:16:11.375112Z"
    }
   },
   "outputs": [],
   "source": [
    "def dfrms(a):\n",
    "    return np.sqrt(np.trapz(a.values, a.index))\n",
    "\n",
    "def df_rms(d, freqs, output=\"VEL\"):\n",
    "    d = d.dropna(axis=1, how='all')\n",
    "    RMS = {}\n",
    "    for fmin, fmax in freqs:\n",
    "        \n",
    "        ix = np.where((d.columns>=fmin) & (d.columns<=fmax))[0]\n",
    "        spec = d.iloc[:,ix]\n",
    "        f = d.columns[ix]\n",
    "        \n",
    "        w2f = (2.0 * np.pi * f)\n",
    "\n",
    "        # The acceleration power spectrum (dB to Power! = divide by 10 and not 20!)\n",
    "        amp = 10.0**(spec/10.) \n",
    "        if output == \"ACC\":\n",
    "            RMS[\"%.1f-%.1f\"%(fmin, fmax)] = amp.apply(dfrms, axis=1)\n",
    "            continue\n",
    "        \n",
    "        # velocity power spectrum (divide by omega**2)\n",
    "        vamp = amp / w2f**2\n",
    "        if output == \"VEL\":\n",
    "            RMS[\"%.1f-%.1f\"%(fmin, fmax)] = vamp.apply(dfrms, axis=1)\n",
    "            continue\n",
    "                \n",
    "        # displacement power spectrum (divide by omega**2)\n",
    "        damp = vamp / w2f**2\n",
    "       \n",
    "        RMS[\"%.1f-%.1f\"%(fmin, fmax)] = damp.apply(dfrms, axis=1)\n",
    "\n",
    "    return pd.DataFrame(RMS, index=d.index)#.tz_localize(\"UTC\")#.dropna()\n"
   ]
  },
  {
   "cell_type": "code",
   "execution_count": null,
   "metadata": {
    "ExecuteTime": {
     "end_time": "2020-04-30T10:16:20.846235Z",
     "start_time": "2020-04-30T10:16:11.508185Z"
    },
    "pycharm": {
     "name": "#%%\n"
    }
   },
   "outputs": [],
   "source": [
    "# Define frequency bands of interest:\n",
    "freqs = [(0.1,1.0),(1.0,20.0),(4.0,14.0),(4.0,20.0)]\n",
    "\n",
    "displacement_RMS = {}\n",
    "for mseedid, ppsd in tqdm.tqdm(ppsds.items()):\n",
    "    ind_times = pd.DatetimeIndex([d.datetime for d in ppsd.current_times_used])\n",
    "    data = pd.DataFrame(ppsd.psd_values, index=ind_times, columns=1./ppsd.period_bin_centers)\n",
    "    data = data.sort_index(axis=1)\n",
    "    displacement_RMS[mseedid] = df_rms(data, freqs, output=\"DISP\")\n",
    "    displacement_RMS[mseedid].to_csv(\"%s.csv\" % mseedid)"
   ]
  },
  {
   "cell_type": "markdown",
   "metadata": {},
   "source": [
    "## Step 8: Custom plot for a single frequency band:"
   ]
  },
  {
   "cell_type": "code",
   "execution_count": null,
   "metadata": {
    "ExecuteTime": {
     "end_time": "2020-04-30T10:17:26.145835Z",
     "start_time": "2020-04-30T10:17:23.501279Z"
    }
   },
   "outputs": [],
   "source": [
    "args = {'band':\"4.0-14.0\",       # might be None or commented (\"4.0-14.0\" per default) or any of the tupples in freqs\n",
    "        'time_zone':time_zone,   # required for clockplots\n",
    "        'sitedesc':sitedesc,     # might be None or commented\n",
    "        'logo':logo,             # might be None or commented\n",
    "        'bans':bans,             # might be None or commented\n",
    "        'save':'./'              # might be None or commented or a path \n",
    "       }\n",
    "seismosocialdistancing.plot(displacement_RMS,\n",
    "                            type='timeseries',\n",
    "                            **args)"
   ]
  },
  {
   "cell_type": "markdown",
   "metadata": {},
   "source": [
    "## Weekday / Time of day Analysis"
   ]
  },
  {
   "cell_type": "code",
   "execution_count": null,
   "metadata": {
    "ExecuteTime": {
     "end_time": "2020-04-30T10:18:10.016616Z",
     "start_time": "2020-04-30T10:17:58.892537Z"
    },
    "scrolled": false
   },
   "outputs": [],
   "source": [
    "seismosocialdistancing.plot(displacement_RMS,\n",
    "                            type='clockplots',\n",
    "                            **args)"
   ]
  },
  {
   "cell_type": "markdown",
   "metadata": {},
   "source": [
    "## Noise distribution over time of the day  "
   ]
  },
  {
   "cell_type": "code",
   "execution_count": null,
   "metadata": {
    "ExecuteTime": {
     "end_time": "2020-04-30T10:19:12.818278Z",
     "start_time": "2020-04-30T10:18:10.021604Z"
    }
   },
   "outputs": [],
   "source": [
    "seismosocialdistancing.plot(displacement_RMS,\n",
    "                            type='clockmaps',\n",
    "                            **args)"
   ]
  }
 ],
 "metadata": {
  "kernelspec": {
   "display_name": "Python 3",
   "language": "python",
   "name": "python3"
  },
  "language_info": {
   "codemirror_mode": {
    "name": "ipython",
    "version": 3
   },
   "file_extension": ".py",
   "mimetype": "text/x-python",
   "name": "python",
   "nbconvert_exporter": "python",
   "pygments_lexer": "ipython3",
   "version": "3.7.6"
  }
 },
 "nbformat": 4,
 "nbformat_minor": 2
}